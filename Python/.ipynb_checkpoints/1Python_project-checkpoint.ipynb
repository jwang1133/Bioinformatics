{
 "cells": [
  {
   "cell_type": "markdown",
   "metadata": {},
   "source": [
    "### Import the library that we need to complete the function. Import the pandas library using the common nickname 'pd'."
   ]
  },
  {
   "cell_type": "code",
   "execution_count": 1,
   "metadata": {
    "collapsed": true
   },
   "outputs": [],
   "source": [
    "from Bio import SeqIO\n",
    "from Bio.Data import CodonTable\n",
    "import pandas as pd\n"
   ]
  },
  {
   "cell_type": "markdown",
   "metadata": {},
   "source": [
    "### Step1. Document Dr. X's get_sequences_from_file() functions with comments and with markdown text"
   ]
  },
  {
   "cell_type": "markdown",
   "metadata": {},
   "source": [
    "**Below is a function that will take a fasta file as input or arguments and will return a dictionay type object that contain pair of keys and values. In this case, for each pair, the key is the species name and value is the cytochrome-b sequence of that species**"
   ]
  },
  {
   "cell_type": "code",
   "execution_count": 2,
   "metadata": {
    "collapsed": true
   },
   "outputs": [],
   "source": [
    "def get_sequences_from_file(fasta_fn):                       ##define the name of a function\n",
    "    sequence_data_dict = {}                                  ##declare a dictionary type variable which will be the return object\n",
    "    for record in SeqIO.parse(fasta_fn, \"fasta\"):            ##a for loop for each record in the fasta file, do several things:\n",
    "        description = record.description.split()             ##split the description for each record by space and put it to a list named as \"description\n",
    "        species_name = description[1] + \" \" + description[2] ##define a species name is the second and third element in description list with a space in between\n",
    "        sequence_data_dict[species_name] = record.seq        ##assign the sequence of a record to be the value of a species name in dictionary object\n",
    "    return(sequence_data_dict)                               ##return the dicionary object"
   ]
  },
  {
   "cell_type": "markdown",
   "metadata": {},
   "source": [
    "### Task2. Write the string-translate function"
   ]
  },
  {
   "cell_type": "markdown",
   "metadata": {},
   "source": [
    "**Below is a function that will take a string that contain a DNA sequence, and return a string that contains the corresponding translated amino acid sequence**"
   ]
  },
  {
   "cell_type": "code",
   "execution_count": 3,
   "metadata": {
    "collapsed": true
   },
   "outputs": [],
   "source": [
    "def translate_function(string_nucleotides):                                     ##define the name of the string translate function\n",
    "    mito_table = CodonTable.unambiguous_dna_by_name[\"Vertebrate Mitochondrial\"] ##Indicate that what type of translation table to use, here we use the translation table for Vertebrate Mitochondrial DNA \n",
    "    aa_seq_string = \"\"                                                          ##declare a string variable named aa_seq_string which will be used to hold the translated amino acid sequence \n",
    "    for n in range(0, len(string_nucleotides), 3):                              ##for-loop through every 3rd position in string_nucleotides to get the codon using range subsets\n",
    "      codon = string_nucleotides[n:n+3]                                         ##subset the string to each three base pair and put it to a variable named codon\n",
    "      if codon in mito_table.stop_codons:                                       ##if statement is used to check if the codon is a stop codon, I should leave it off and skip from the for loop\n",
    "         break\n",
    "      aa = mito_table.forward_table[codon]                                      ##translate the codon using ranslation table for Vertebrate Mitochondrial DNA\n",
    "      aa_seq_string += aa                                                       ##add the translated amino acid to aa_seq_string\n",
    "    return (aa_seq_string)                                                      ##after done with the for loop, return the string of amino acid sequence"
   ]
  },
  {
   "cell_type": "markdown",
   "metadata": {},
   "source": [
    "### Task3. Write my alternative string-translate function"
   ]
  },
  {
   "cell_type": "code",
   "execution_count": 4,
   "metadata": {
    "collapsed": true
   },
   "outputs": [],
   "source": [
    "##Befor start this alternative string-translate function, I need to import some library from Biopython that I need "
   ]
  },
  {
   "cell_type": "code",
   "execution_count": 5,
   "metadata": {
    "collapsed": true
   },
   "outputs": [],
   "source": [
    "from Bio.Seq import Seq\n",
    "from Bio.Alphabet import IUPAC"
   ]
  },
  {
   "cell_type": "markdown",
   "metadata": {},
   "source": [
    "**Below is a alternative string-translate function that will take a string that contain a DNA sequence, and return a string that contains the corresponding translated amino acid sequence. This function will translate the stop codon to be a \\*. I learned to do this part from http://biopython.org/DIST/docs/tutorial/Tutorial.html#htoc26**"
   ]
  },
  {
   "cell_type": "code",
   "execution_count": 6,
   "metadata": {
    "collapsed": true
   },
   "outputs": [],
   "source": [
    "def alt_translate_function(string_nucleotides):                          ##define the name of the string translate function to be alt_translate_function\n",
    "    coding_dna = Seq(string_nucleotides, IUPAC.unambiguous_dna)          ##adding a string of nucleotide sequence to an unambiguous IUPAC DNA sequence, resulting in an ambiguous nucleotide sequence\n",
    "    aa_sequence = coding_dna.translate(table=\"Vertebrate Mitochondrial\") ##using the translation table for Vertebrate Mitochondrial DNA\n",
    "    aa_seq_string = str(aa_sequence)                                     ##turn the seq objects to string\n",
    "    return (aa_seq_string)                                               ##return the string of amino acid sequence"
   ]
  },
  {
   "cell_type": "markdown",
   "metadata": {},
   "source": [
    "### Task4. Write a function that calculates the proportion of each of 3 amino acid categories in a sequence"
   ]
  },
  {
   "cell_type": "markdown",
   "metadata": {},
   "source": [
    "**Below is a function that will take a string that contain an amino-acid sequence and compute the porportion of the 3 different categories of amino acid**"
   ]
  },
  {
   "cell_type": "code",
   "execution_count": 7,
   "metadata": {
    "collapsed": true
   },
   "outputs": [],
   "source": [
    "def get_proportion_aa_type_function(aa_seq):                        ##define the name of the function to be get_proportion_aa_type_function\n",
    "    charged = ['R','K','D','E']                                     ##declare the lists of three category of amino acid\n",
    "    polar = ['Q','N','H','S','T','Y','C','M','W']\n",
    "    hydrophobic = ['A','I','L','F','V','P','G']\n",
    "    total_count = 0                                                 ##declare the total count and count for each category of amino acid and assign i\n",
    "    charged_count = 0                                               ##to 0\n",
    "    polar_count = 0\n",
    "    hydrophobic_count = 0\n",
    "    for aa in aa_seq:                                               ##using a for loop to loop through each character in the amino acid sequence\n",
    "        if aa in charged:                                           ##count the number of amino acid when it appears in list of charged amino acid\n",
    "          charged_count += 1                                        ##and assign it to charged_count\n",
    "        if aa in polar:                                             ##do the same thing for polar and hydrophobic\n",
    "           polar_count += 1\n",
    "        if aa in hydrophobic:\n",
    "           hydrophobic_count += 1\n",
    "    total_count = charged_count + polar_count + hydrophobic_count   ##sum the counts from each of the category to get total count\n",
    "    proportion_charged = charged_count / total_count                ##calculate the proportion for each category\n",
    "    proportion_polar = polar_count / total_count\n",
    "    proportion_hydro = hydrophobic_count / total_count\n",
    "    return proportion_charged, proportion_polar, proportion_hydro   ##return the proportions for each of the category"
   ]
  },
  {
   "cell_type": "markdown",
   "metadata": {},
   "source": [
    "### Task5. Complete the empty columns in the dataframe by calling functions from 1, 3 and 4"
   ]
  },
  {
   "cell_type": "code",
   "execution_count": 8,
   "metadata": {
    "collapsed": true
   },
   "outputs": [],
   "source": [
    "##loading the data into a dataframe using panda's read_csv()\n",
    "bear_df = pd.read_csv(\"bears_data.csv\")                  \n",
    "species_list = list(bear_df.species)\n",
    "##call the function get_sequences_from_file() from task 1 to get a dictionionay that contains the species name\n",
    "##and the DNA sequence for each corresponding species\n",
    "cytb_seqs = get_sequences_from_file(\"bears_cytb.fasta\") \n",
    "##use a for loop to translate each sequence and also gets the proportion\n",
    "for key, value in cytb_seqs.items():\n",
    "    dna_seq = str(value)                                                  ##turn the value from the dictionary to a string which will \n",
    "    aa_seq = alt_translate_function(dna_seq)                              ##the input for alt_translate_function()\n",
    "    aa_proportions = get_proportion_aa_type_function(aa_seq)              ##get proportion for each of the three aa categroy\n",
    "    bear_df.loc[bear_df.species==key, 'charged'] = aa_proportions[0]      ##set the value for each proportion in the dataframe\n",
    "    bear_df.loc[bear_df.species==key, 'polar'] = aa_proportions[1]\n",
    "    bear_df.loc[bear_df.species==key, 'hydrophobic'] = aa_proportions[2]"
   ]
  },
  {
   "cell_type": "code",
   "execution_count": 9,
   "metadata": {},
   "outputs": [
    {
     "data": {
      "text/html": [
       "<div>\n",
       "<table border=\"1\" class=\"dataframe\">\n",
       "  <thead>\n",
       "    <tr style=\"text-align: right;\">\n",
       "      <th></th>\n",
       "      <th>species</th>\n",
       "      <th>mass</th>\n",
       "      <th>charged</th>\n",
       "      <th>polar</th>\n",
       "      <th>hydrophobic</th>\n",
       "    </tr>\n",
       "  </thead>\n",
       "  <tbody>\n",
       "    <tr>\n",
       "      <th>0</th>\n",
       "      <td>Ursus spelaeus</td>\n",
       "      <td>550.800</td>\n",
       "      <td>0.092348</td>\n",
       "      <td>0.329815</td>\n",
       "      <td>0.577836</td>\n",
       "    </tr>\n",
       "    <tr>\n",
       "      <th>1</th>\n",
       "      <td>Ursus arctos</td>\n",
       "      <td>203.500</td>\n",
       "      <td>0.092348</td>\n",
       "      <td>0.324538</td>\n",
       "      <td>0.583113</td>\n",
       "    </tr>\n",
       "    <tr>\n",
       "      <th>2</th>\n",
       "      <td>Ursus thibetanus</td>\n",
       "      <td>99.714</td>\n",
       "      <td>0.092348</td>\n",
       "      <td>0.327177</td>\n",
       "      <td>0.580475</td>\n",
       "    </tr>\n",
       "    <tr>\n",
       "      <th>3</th>\n",
       "      <td>Melursus ursinus</td>\n",
       "      <td>100.030</td>\n",
       "      <td>0.089710</td>\n",
       "      <td>0.340369</td>\n",
       "      <td>0.569921</td>\n",
       "    </tr>\n",
       "    <tr>\n",
       "      <th>4</th>\n",
       "      <td>Ursus americanus</td>\n",
       "      <td>110.560</td>\n",
       "      <td>0.089710</td>\n",
       "      <td>0.337731</td>\n",
       "      <td>0.572559</td>\n",
       "    </tr>\n",
       "    <tr>\n",
       "      <th>5</th>\n",
       "      <td>Helarctos malayanus</td>\n",
       "      <td>47.020</td>\n",
       "      <td>0.092348</td>\n",
       "      <td>0.340369</td>\n",
       "      <td>0.567282</td>\n",
       "    </tr>\n",
       "    <tr>\n",
       "      <th>6</th>\n",
       "      <td>Ailuropoda melanoleuca</td>\n",
       "      <td>118.200</td>\n",
       "      <td>0.089710</td>\n",
       "      <td>0.343008</td>\n",
       "      <td>0.567282</td>\n",
       "    </tr>\n",
       "    <tr>\n",
       "      <th>7</th>\n",
       "      <td>Tremarctos ornatus</td>\n",
       "      <td>140.700</td>\n",
       "      <td>0.089710</td>\n",
       "      <td>0.335092</td>\n",
       "      <td>0.575198</td>\n",
       "    </tr>\n",
       "    <tr>\n",
       "      <th>8</th>\n",
       "      <td>Ursus maritimus</td>\n",
       "      <td>425.100</td>\n",
       "      <td>0.092348</td>\n",
       "      <td>0.327177</td>\n",
       "      <td>0.580475</td>\n",
       "    </tr>\n",
       "  </tbody>\n",
       "</table>\n",
       "</div>"
      ],
      "text/plain": [
       "                  species     mass   charged     polar  hydrophobic\n",
       "0          Ursus spelaeus  550.800  0.092348  0.329815     0.577836\n",
       "1            Ursus arctos  203.500  0.092348  0.324538     0.583113\n",
       "2        Ursus thibetanus   99.714  0.092348  0.327177     0.580475\n",
       "3        Melursus ursinus  100.030  0.089710  0.340369     0.569921\n",
       "4        Ursus americanus  110.560  0.089710  0.337731     0.572559\n",
       "5     Helarctos malayanus   47.020  0.092348  0.340369     0.567282\n",
       "6  Ailuropoda melanoleuca  118.200  0.089710  0.343008     0.567282\n",
       "7      Tremarctos ornatus  140.700  0.089710  0.335092     0.575198\n",
       "8         Ursus maritimus  425.100  0.092348  0.327177     0.580475"
      ]
     },
     "execution_count": 9,
     "metadata": {},
     "output_type": "execute_result"
    }
   ],
   "source": [
    "##visualize the bear_df after the calculateion\n",
    "bear_df "
   ]
  },
  {
   "cell_type": "markdown",
   "metadata": {},
   "source": [
    "### Task6. Plot a bar-chart of adult mass per species"
   ]
  },
  {
   "cell_type": "code",
   "execution_count": 10,
   "metadata": {
    "collapsed": true
   },
   "outputs": [],
   "source": [
    "%matplotlib inline"
   ]
  },
  {
   "cell_type": "code",
   "execution_count": 11,
   "metadata": {},
   "outputs": [
    {
     "data": {
      "image/png": "[encoded data removed]",
      "text/plain": [
       "<matplotlib.figure.Figure at 0xa19b588>"
      ]
     },
     "metadata": {},
     "output_type": "display_data"
    }
   ],
   "source": [
    "##using the seaborn to plot bar-chart of adult mass per species\n",
    "##load the seaborn package\n",
    "##This part was learned from website(https://seaborn.pydata.org/generated/seaborn.barplot.html?highlight=barplot#seaborn.barplot)\n",
    "import seaborn as sns\n",
    "sns.set_style(\"whitegrid\")\n",
    "ax = sns.barplot(x=\"mass\", y=\"species\", data=bear_df)"
   ]
  },
  {
   "cell_type": "markdown",
   "metadata": {},
   "source": [
    "**We can see from the above bar-chart that the largest bear species is Ursus spelaeus. And some other intersting aspect of this specis is that this species has extincted about 24,000 years ago during the Last Glacial Maximum. This bear also named cave bear as fossils of this species mostly found in caves.(Information get from:https://en.wikipedia.org/wiki/Cave_bear)**"
   ]
  },
  {
   "cell_type": "markdown",
   "metadata": {},
   "source": [
    "### Task7. Plot a visualization of the proportions for amino-acid type for the bear species"
   ]
  },
  {
   "cell_type": "markdown",
   "metadata": {},
   "source": [
    "**Before do the plot, I melted the dataframe first to make it from short format to the long format using the pd.melt()**"
   ]
  },
  {
   "cell_type": "code",
   "execution_count": 12,
   "metadata": {
    "collapsed": true
   },
   "outputs": [],
   "source": [
    "bear_melted_df = pd.melt(bear_df, id_vars= ['species', 'mass'], value_vars = [ 'charged', 'polar', 'hydrophobic'])"
   ]
  },
  {
   "cell_type": "code",
   "execution_count": 13,
   "metadata": {},
   "outputs": [
    {
     "data": {
      "text/html": [
       "<div>\n",
       "<table border=\"1\" class=\"dataframe\">\n",
       "  <thead>\n",
       "    <tr style=\"text-align: right;\">\n",
       "      <th></th>\n",
       "      <th>species</th>\n",
       "      <th>mass</th>\n",
       "      <th>variable</th>\n",
       "      <th>value</th>\n",
       "    </tr>\n",
       "  </thead>\n",
       "  <tbody>\n",
       "    <tr>\n",
       "      <th>0</th>\n",
       "      <td>Ursus spelaeus</td>\n",
       "      <td>550.800</td>\n",
       "      <td>charged</td>\n",
       "      <td>0.092348</td>\n",
       "    </tr>\n",
       "    <tr>\n",
       "      <th>1</th>\n",
       "      <td>Ursus arctos</td>\n",
       "      <td>203.500</td>\n",
       "      <td>charged</td>\n",
       "      <td>0.092348</td>\n",
       "    </tr>\n",
       "    <tr>\n",
       "      <th>2</th>\n",
       "      <td>Ursus thibetanus</td>\n",
       "      <td>99.714</td>\n",
       "      <td>charged</td>\n",
       "      <td>0.092348</td>\n",
       "    </tr>\n",
       "    <tr>\n",
       "      <th>3</th>\n",
       "      <td>Melursus ursinus</td>\n",
       "      <td>100.030</td>\n",
       "      <td>charged</td>\n",
       "      <td>0.089710</td>\n",
       "    </tr>\n",
       "    <tr>\n",
       "      <th>4</th>\n",
       "      <td>Ursus americanus</td>\n",
       "      <td>110.560</td>\n",
       "      <td>charged</td>\n",
       "      <td>0.089710</td>\n",
       "    </tr>\n",
       "    <tr>\n",
       "      <th>5</th>\n",
       "      <td>Helarctos malayanus</td>\n",
       "      <td>47.020</td>\n",
       "      <td>charged</td>\n",
       "      <td>0.092348</td>\n",
       "    </tr>\n",
       "    <tr>\n",
       "      <th>6</th>\n",
       "      <td>Ailuropoda melanoleuca</td>\n",
       "      <td>118.200</td>\n",
       "      <td>charged</td>\n",
       "      <td>0.089710</td>\n",
       "    </tr>\n",
       "    <tr>\n",
       "      <th>7</th>\n",
       "      <td>Tremarctos ornatus</td>\n",
       "      <td>140.700</td>\n",
       "      <td>charged</td>\n",
       "      <td>0.089710</td>\n",
       "    </tr>\n",
       "    <tr>\n",
       "      <th>8</th>\n",
       "      <td>Ursus maritimus</td>\n",
       "      <td>425.100</td>\n",
       "      <td>charged</td>\n",
       "      <td>0.092348</td>\n",
       "    </tr>\n",
       "    <tr>\n",
       "      <th>9</th>\n",
       "      <td>Ursus spelaeus</td>\n",
       "      <td>550.800</td>\n",
       "      <td>polar</td>\n",
       "      <td>0.329815</td>\n",
       "    </tr>\n",
       "    <tr>\n",
       "      <th>10</th>\n",
       "      <td>Ursus arctos</td>\n",
       "      <td>203.500</td>\n",
       "      <td>polar</td>\n",
       "      <td>0.324538</td>\n",
       "    </tr>\n",
       "    <tr>\n",
       "      <th>11</th>\n",
       "      <td>Ursus thibetanus</td>\n",
       "      <td>99.714</td>\n",
       "      <td>polar</td>\n",
       "      <td>0.327177</td>\n",
       "    </tr>\n",
       "    <tr>\n",
       "      <th>12</th>\n",
       "      <td>Melursus ursinus</td>\n",
       "      <td>100.030</td>\n",
       "      <td>polar</td>\n",
       "      <td>0.340369</td>\n",
       "    </tr>\n",
       "    <tr>\n",
       "      <th>13</th>\n",
       "      <td>Ursus americanus</td>\n",
       "      <td>110.560</td>\n",
       "      <td>polar</td>\n",
       "      <td>0.337731</td>\n",
       "    </tr>\n",
       "    <tr>\n",
       "      <th>14</th>\n",
       "      <td>Helarctos malayanus</td>\n",
       "      <td>47.020</td>\n",
       "      <td>polar</td>\n",
       "      <td>0.340369</td>\n",
       "    </tr>\n",
       "    <tr>\n",
       "      <th>15</th>\n",
       "      <td>Ailuropoda melanoleuca</td>\n",
       "      <td>118.200</td>\n",
       "      <td>polar</td>\n",
       "      <td>0.343008</td>\n",
       "    </tr>\n",
       "    <tr>\n",
       "      <th>16</th>\n",
       "      <td>Tremarctos ornatus</td>\n",
       "      <td>140.700</td>\n",
       "      <td>polar</td>\n",
       "      <td>0.335092</td>\n",
       "    </tr>\n",
       "    <tr>\n",
       "      <th>17</th>\n",
       "      <td>Ursus maritimus</td>\n",
       "      <td>425.100</td>\n",
       "      <td>polar</td>\n",
       "      <td>0.327177</td>\n",
       "    </tr>\n",
       "    <tr>\n",
       "      <th>18</th>\n",
       "      <td>Ursus spelaeus</td>\n",
       "      <td>550.800</td>\n",
       "      <td>hydrophobic</td>\n",
       "      <td>0.577836</td>\n",
       "    </tr>\n",
       "    <tr>\n",
       "      <th>19</th>\n",
       "      <td>Ursus arctos</td>\n",
       "      <td>203.500</td>\n",
       "      <td>hydrophobic</td>\n",
       "      <td>0.583113</td>\n",
       "    </tr>\n",
       "    <tr>\n",
       "      <th>20</th>\n",
       "      <td>Ursus thibetanus</td>\n",
       "      <td>99.714</td>\n",
       "      <td>hydrophobic</td>\n",
       "      <td>0.580475</td>\n",
       "    </tr>\n",
       "    <tr>\n",
       "      <th>21</th>\n",
       "      <td>Melursus ursinus</td>\n",
       "      <td>100.030</td>\n",
       "      <td>hydrophobic</td>\n",
       "      <td>0.569921</td>\n",
       "    </tr>\n",
       "    <tr>\n",
       "      <th>22</th>\n",
       "      <td>Ursus americanus</td>\n",
       "      <td>110.560</td>\n",
       "      <td>hydrophobic</td>\n",
       "      <td>0.572559</td>\n",
       "    </tr>\n",
       "    <tr>\n",
       "      <th>23</th>\n",
       "      <td>Helarctos malayanus</td>\n",
       "      <td>47.020</td>\n",
       "      <td>hydrophobic</td>\n",
       "      <td>0.567282</td>\n",
       "    </tr>\n",
       "    <tr>\n",
       "      <th>24</th>\n",
       "      <td>Ailuropoda melanoleuca</td>\n",
       "      <td>118.200</td>\n",
       "      <td>hydrophobic</td>\n",
       "      <td>0.567282</td>\n",
       "    </tr>\n",
       "    <tr>\n",
       "      <th>25</th>\n",
       "      <td>Tremarctos ornatus</td>\n",
       "      <td>140.700</td>\n",
       "      <td>hydrophobic</td>\n",
       "      <td>0.575198</td>\n",
       "    </tr>\n",
       "    <tr>\n",
       "      <th>26</th>\n",
       "      <td>Ursus maritimus</td>\n",
       "      <td>425.100</td>\n",
       "      <td>hydrophobic</td>\n",
       "      <td>0.580475</td>\n",
       "    </tr>\n",
       "  </tbody>\n",
       "</table>\n",
       "</div>"
      ],
      "text/plain": [
       "                   species     mass     variable     value\n",
       "0           Ursus spelaeus  550.800      charged  0.092348\n",
       "1             Ursus arctos  203.500      charged  0.092348\n",
       "2         Ursus thibetanus   99.714      charged  0.092348\n",
       "3         Melursus ursinus  100.030      charged  0.089710\n",
       "4         Ursus americanus  110.560      charged  0.089710\n",
       "5      Helarctos malayanus   47.020      charged  0.092348\n",
       "6   Ailuropoda melanoleuca  118.200      charged  0.089710\n",
       "7       Tremarctos ornatus  140.700      charged  0.089710\n",
       "8          Ursus maritimus  425.100      charged  0.092348\n",
       "9           Ursus spelaeus  550.800        polar  0.329815\n",
       "10            Ursus arctos  203.500        polar  0.324538\n",
       "11        Ursus thibetanus   99.714        polar  0.327177\n",
       "12        Melursus ursinus  100.030        polar  0.340369\n",
       "13        Ursus americanus  110.560        polar  0.337731\n",
       "14     Helarctos malayanus   47.020        polar  0.340369\n",
       "15  Ailuropoda melanoleuca  118.200        polar  0.343008\n",
       "16      Tremarctos ornatus  140.700        polar  0.335092\n",
       "17         Ursus maritimus  425.100        polar  0.327177\n",
       "18          Ursus spelaeus  550.800  hydrophobic  0.577836\n",
       "19            Ursus arctos  203.500  hydrophobic  0.583113\n",
       "20        Ursus thibetanus   99.714  hydrophobic  0.580475\n",
       "21        Melursus ursinus  100.030  hydrophobic  0.569921\n",
       "22        Ursus americanus  110.560  hydrophobic  0.572559\n",
       "23     Helarctos malayanus   47.020  hydrophobic  0.567282\n",
       "24  Ailuropoda melanoleuca  118.200  hydrophobic  0.567282\n",
       "25      Tremarctos ornatus  140.700  hydrophobic  0.575198\n",
       "26         Ursus maritimus  425.100  hydrophobic  0.580475"
      ]
     },
     "execution_count": 13,
     "metadata": {},
     "output_type": "execute_result"
    }
   ],
   "source": [
    "##visualize the new dataframe bear_melted_df\n",
    "bear_melted_df"
   ]
  },
  {
   "cell_type": "code",
   "execution_count": 14,
   "metadata": {},
   "outputs": [
    {
     "data": {
      "image/png": "[encoded data removed]",
      "text/plain": [
       "<matplotlib.figure.Figure at 0xb6252b0>"
      ]
     },
     "metadata": {},
     "output_type": "display_data"
    }
   ],
   "source": [
    "##plot the thee amino acid proportions for each bear species using seaborn\n",
    "ax = sns.barplot(x=\"value\", y=\"species\", hue=\"variable\",   data=bear_melted_df)"
   ]
  },
  {
   "cell_type": "markdown",
   "metadata": {},
   "source": [
    "**We can see from the above bar-chart of the proportions of three categories of amino acid, that within each species, the charged amino acid is about 9%, the polar amino acid is about32%-34%, and the hydrophobic amino acid is about 58%. And this pattertn is very consistent across species.**"
   ]
  },
  {
   "cell_type": "markdown",
   "metadata": {},
   "source": [
    "### Task8. Save the new dataframe to a file called \"bears_mass_cytb.csv\" "
   ]
  },
  {
   "cell_type": "code",
   "execution_count": 15,
   "metadata": {
    "collapsed": true
   },
   "outputs": [],
   "source": [
    "##Using the following code to save the new dataframe to \"bears_mass_cytb.csv\"\n",
    "bear_df.to_csv('bears_mass_cytb.csv', sep = ',')"
   ]
  },
  {
   "cell_type": "markdown",
   "metadata": {},
   "source": [
    "### Task9. Bonus task- write a function that calculate the length of amino acid sequence for each species and then store it into the dataframe, plot it out and visualize the protein length differences between species"
   ]
  },
  {
   "cell_type": "markdown",
   "metadata": {},
   "source": [
    "**Write the function to calculate the protein length, which is modified from previous function get_proportion_aa_type_function() **"
   ]
  },
  {
   "cell_type": "code",
   "execution_count": 16,
   "metadata": {
    "collapsed": true
   },
   "outputs": [],
   "source": [
    "def get_aa_length_function(aa_seq):                                 ##define the name of the function to be get_proportion_aa_type_function\n",
    "    charged = ['R','K','D','E']                                     ##declare the lists of three category of amino acid\n",
    "    polar = ['Q','N','H','S','T','Y','C','M','W']\n",
    "    hydrophobic = ['A','I','L','F','V','P','G']\n",
    "    total_count = 0                                                 ##declare the total count and count for each category of amino acid and assign i\n",
    "    charged_count = 0                                               ##to 0\n",
    "    polar_count = 0\n",
    "    hydrophobic_count = 0\n",
    "    for aa in aa_seq:                                               ##using a for loop to loop through each character in the amino acid sequence\n",
    "        if aa in charged:                                           ##count the number of amino acid when it appears in list of charged amino acid\n",
    "          charged_count += 1                                        ##and assign it to charged_count\n",
    "        if aa in polar:                                             ##do the same thing for polar and hydrophobic\n",
    "           polar_count += 1\n",
    "        if aa in hydrophobic:\n",
    "           hydrophobic_count += 1\n",
    "    total_count = charged_count + polar_count + hydrophobic_count   ##sum the counts from each of the category to get total count\n",
    "    return total_count                                              ##return the proportions for each of the category"
   ]
  },
  {
   "cell_type": "markdown",
   "metadata": {},
   "source": [
    "**Using a for loop Calculate the amino acid length for each species by calling function alt_translate_function() from task 3 and the get_aa_length_function(), then store it into the dataframe bear_df**"
   ]
  },
  {
   "cell_type": "code",
   "execution_count": 17,
   "metadata": {},
   "outputs": [
    {
     "data": {
      "text/html": [
       "<div>\n",
       "<table border=\"1\" class=\"dataframe\">\n",
       "  <thead>\n",
       "    <tr style=\"text-align: right;\">\n",
       "      <th></th>\n",
       "      <th>species</th>\n",
       "      <th>mass</th>\n",
       "      <th>charged</th>\n",
       "      <th>polar</th>\n",
       "      <th>hydrophobic</th>\n",
       "      <th>protein_length</th>\n",
       "    </tr>\n",
       "  </thead>\n",
       "  <tbody>\n",
       "    <tr>\n",
       "      <th>0</th>\n",
       "      <td>Ursus spelaeus</td>\n",
       "      <td>550.800</td>\n",
       "      <td>0.092348</td>\n",
       "      <td>0.329815</td>\n",
       "      <td>0.577836</td>\n",
       "      <td></td>\n",
       "    </tr>\n",
       "    <tr>\n",
       "      <th>1</th>\n",
       "      <td>Ursus arctos</td>\n",
       "      <td>203.500</td>\n",
       "      <td>0.092348</td>\n",
       "      <td>0.324538</td>\n",
       "      <td>0.583113</td>\n",
       "      <td></td>\n",
       "    </tr>\n",
       "    <tr>\n",
       "      <th>2</th>\n",
       "      <td>Ursus thibetanus</td>\n",
       "      <td>99.714</td>\n",
       "      <td>0.092348</td>\n",
       "      <td>0.327177</td>\n",
       "      <td>0.580475</td>\n",
       "      <td></td>\n",
       "    </tr>\n",
       "    <tr>\n",
       "      <th>3</th>\n",
       "      <td>Melursus ursinus</td>\n",
       "      <td>100.030</td>\n",
       "      <td>0.089710</td>\n",
       "      <td>0.340369</td>\n",
       "      <td>0.569921</td>\n",
       "      <td></td>\n",
       "    </tr>\n",
       "    <tr>\n",
       "      <th>4</th>\n",
       "      <td>Ursus americanus</td>\n",
       "      <td>110.560</td>\n",
       "      <td>0.089710</td>\n",
       "      <td>0.337731</td>\n",
       "      <td>0.572559</td>\n",
       "      <td></td>\n",
       "    </tr>\n",
       "    <tr>\n",
       "      <th>5</th>\n",
       "      <td>Helarctos malayanus</td>\n",
       "      <td>47.020</td>\n",
       "      <td>0.092348</td>\n",
       "      <td>0.340369</td>\n",
       "      <td>0.567282</td>\n",
       "      <td></td>\n",
       "    </tr>\n",
       "    <tr>\n",
       "      <th>6</th>\n",
       "      <td>Ailuropoda melanoleuca</td>\n",
       "      <td>118.200</td>\n",
       "      <td>0.089710</td>\n",
       "      <td>0.343008</td>\n",
       "      <td>0.567282</td>\n",
       "      <td></td>\n",
       "    </tr>\n",
       "    <tr>\n",
       "      <th>7</th>\n",
       "      <td>Tremarctos ornatus</td>\n",
       "      <td>140.700</td>\n",
       "      <td>0.089710</td>\n",
       "      <td>0.335092</td>\n",
       "      <td>0.575198</td>\n",
       "      <td></td>\n",
       "    </tr>\n",
       "    <tr>\n",
       "      <th>8</th>\n",
       "      <td>Ursus maritimus</td>\n",
       "      <td>425.100</td>\n",
       "      <td>0.092348</td>\n",
       "      <td>0.327177</td>\n",
       "      <td>0.580475</td>\n",
       "      <td></td>\n",
       "    </tr>\n",
       "  </tbody>\n",
       "</table>\n",
       "</div>"
      ],
      "text/plain": [
       "                  species     mass   charged     polar  hydrophobic  \\\n",
       "0          Ursus spelaeus  550.800  0.092348  0.329815     0.577836   \n",
       "1            Ursus arctos  203.500  0.092348  0.324538     0.583113   \n",
       "2        Ursus thibetanus   99.714  0.092348  0.327177     0.580475   \n",
       "3        Melursus ursinus  100.030  0.089710  0.340369     0.569921   \n",
       "4        Ursus americanus  110.560  0.089710  0.337731     0.572559   \n",
       "5     Helarctos malayanus   47.020  0.092348  0.340369     0.567282   \n",
       "6  Ailuropoda melanoleuca  118.200  0.089710  0.343008     0.567282   \n",
       "7      Tremarctos ornatus  140.700  0.089710  0.335092     0.575198   \n",
       "8         Ursus maritimus  425.100  0.092348  0.327177     0.580475   \n",
       "\n",
       "  protein_length  \n",
       "0                 \n",
       "1                 \n",
       "2                 \n",
       "3                 \n",
       "4                 \n",
       "5                 \n",
       "6                 \n",
       "7                 \n",
       "8                 "
      ]
     },
     "execution_count": 17,
     "metadata": {},
     "output_type": "execute_result"
    }
   ],
   "source": [
    "##Before run the for loop, first add a new column named protein_length to the existing dataframe bear_df\n",
    "\n",
    "bear_df['protein_length'] = \"\"\n",
    "bear_df"
   ]
  },
  {
   "cell_type": "code",
   "execution_count": 18,
   "metadata": {
    "collapsed": true
   },
   "outputs": [],
   "source": [
    "\n",
    "for key, value in cytb_seqs.items():\n",
    "    dna_seq = str(value)                                                  ##turn the value from the dictionary to a string which will \n",
    "    aa_seq = alt_translate_function(dna_seq)                              ##the input for alt_translate_function()\n",
    "    aa_length = get_aa_length_function(aa_seq)                            ##get the length of protein for each of species\n",
    "    bear_df.loc[bear_df.species==key, 'protein_length'] = aa_length       ##set the value in the dataframe\n",
    " "
   ]
  },
  {
   "cell_type": "code",
   "execution_count": 19,
   "metadata": {},
   "outputs": [
    {
     "data": {
      "text/html": [
       "<div>\n",
       "<table border=\"1\" class=\"dataframe\">\n",
       "  <thead>\n",
       "    <tr style=\"text-align: right;\">\n",
       "      <th></th>\n",
       "      <th>species</th>\n",
       "      <th>mass</th>\n",
       "      <th>charged</th>\n",
       "      <th>polar</th>\n",
       "      <th>hydrophobic</th>\n",
       "      <th>protein_length</th>\n",
       "    </tr>\n",
       "  </thead>\n",
       "  <tbody>\n",
       "    <tr>\n",
       "      <th>0</th>\n",
       "      <td>Ursus spelaeus</td>\n",
       "      <td>550.800</td>\n",
       "      <td>0.092348</td>\n",
       "      <td>0.329815</td>\n",
       "      <td>0.577836</td>\n",
       "      <td>379</td>\n",
       "    </tr>\n",
       "    <tr>\n",
       "      <th>1</th>\n",
       "      <td>Ursus arctos</td>\n",
       "      <td>203.500</td>\n",
       "      <td>0.092348</td>\n",
       "      <td>0.324538</td>\n",
       "      <td>0.583113</td>\n",
       "      <td>379</td>\n",
       "    </tr>\n",
       "    <tr>\n",
       "      <th>2</th>\n",
       "      <td>Ursus thibetanus</td>\n",
       "      <td>99.714</td>\n",
       "      <td>0.092348</td>\n",
       "      <td>0.327177</td>\n",
       "      <td>0.580475</td>\n",
       "      <td>379</td>\n",
       "    </tr>\n",
       "    <tr>\n",
       "      <th>3</th>\n",
       "      <td>Melursus ursinus</td>\n",
       "      <td>100.030</td>\n",
       "      <td>0.089710</td>\n",
       "      <td>0.340369</td>\n",
       "      <td>0.569921</td>\n",
       "      <td>379</td>\n",
       "    </tr>\n",
       "    <tr>\n",
       "      <th>4</th>\n",
       "      <td>Ursus americanus</td>\n",
       "      <td>110.560</td>\n",
       "      <td>0.089710</td>\n",
       "      <td>0.337731</td>\n",
       "      <td>0.572559</td>\n",
       "      <td>379</td>\n",
       "    </tr>\n",
       "    <tr>\n",
       "      <th>5</th>\n",
       "      <td>Helarctos malayanus</td>\n",
       "      <td>47.020</td>\n",
       "      <td>0.092348</td>\n",
       "      <td>0.340369</td>\n",
       "      <td>0.567282</td>\n",
       "      <td>379</td>\n",
       "    </tr>\n",
       "    <tr>\n",
       "      <th>6</th>\n",
       "      <td>Ailuropoda melanoleuca</td>\n",
       "      <td>118.200</td>\n",
       "      <td>0.089710</td>\n",
       "      <td>0.343008</td>\n",
       "      <td>0.567282</td>\n",
       "      <td>379</td>\n",
       "    </tr>\n",
       "    <tr>\n",
       "      <th>7</th>\n",
       "      <td>Tremarctos ornatus</td>\n",
       "      <td>140.700</td>\n",
       "      <td>0.089710</td>\n",
       "      <td>0.335092</td>\n",
       "      <td>0.575198</td>\n",
       "      <td>379</td>\n",
       "    </tr>\n",
       "    <tr>\n",
       "      <th>8</th>\n",
       "      <td>Ursus maritimus</td>\n",
       "      <td>425.100</td>\n",
       "      <td>0.092348</td>\n",
       "      <td>0.327177</td>\n",
       "      <td>0.580475</td>\n",
       "      <td>379</td>\n",
       "    </tr>\n",
       "  </tbody>\n",
       "</table>\n",
       "</div>"
      ],
      "text/plain": [
       "                  species     mass   charged     polar  hydrophobic  \\\n",
       "0          Ursus spelaeus  550.800  0.092348  0.329815     0.577836   \n",
       "1            Ursus arctos  203.500  0.092348  0.324538     0.583113   \n",
       "2        Ursus thibetanus   99.714  0.092348  0.327177     0.580475   \n",
       "3        Melursus ursinus  100.030  0.089710  0.340369     0.569921   \n",
       "4        Ursus americanus  110.560  0.089710  0.337731     0.572559   \n",
       "5     Helarctos malayanus   47.020  0.092348  0.340369     0.567282   \n",
       "6  Ailuropoda melanoleuca  118.200  0.089710  0.343008     0.567282   \n",
       "7      Tremarctos ornatus  140.700  0.089710  0.335092     0.575198   \n",
       "8         Ursus maritimus  425.100  0.092348  0.327177     0.580475   \n",
       "\n",
       "  protein_length  \n",
       "0            379  \n",
       "1            379  \n",
       "2            379  \n",
       "3            379  \n",
       "4            379  \n",
       "5            379  \n",
       "6            379  \n",
       "7            379  \n",
       "8            379  "
      ]
     },
     "execution_count": 19,
     "metadata": {},
     "output_type": "execute_result"
    }
   ],
   "source": [
    "##visualize the dataframe after the calculation \n",
    "bear_df"
   ]
  },
  {
   "cell_type": "code",
   "execution_count": 20,
   "metadata": {},
   "outputs": [
    {
     "data": {
      "image/png": "[encoded data removed]",
      "text/plain": [
       "<matplotlib.figure.Figure at 0xa571668>"
      ]
     },
     "metadata": {},
     "output_type": "display_data"
    }
   ],
   "source": [
    "##Using seaborn plot it out to visualize the protein length for each species\n",
    "ax = sns.barplot(x=\"protein_length\", y=\"species\",  data=bear_df)"
   ]
  },
  {
   "cell_type": "markdown",
   "metadata": {},
   "source": [
    "**From the above bar-chart we could see that all of the species have the same cytochrome-b protein length. And together with the findings from task7, we can tell that the length of the cytochrome-b sequences are very conserved. However since the proportions of each three type of amino acid across species are still sligtly different from each other, there are still fair amount of polymorhisms exists for the cytochrome-b protein across bear species. And of course, further invesitgation such as calculate the polymorphisms at each of the corresponding nucleotid or amino acid position can be carried out to confirm this.**"
   ]
  }
 ],
 "metadata": {
  "kernelspec": {
   "display_name": "Python 2",
   "language": "python",
   "name": "python2"
  },
  "language_info": {
   "codemirror_mode": {
    "name": "ipython",
    "version": 2
   },
   "file_extension": ".py",
   "mimetype": "text/x-python",
   "name": "python",
   "nbconvert_exporter": "python",
   "pygments_lexer": "ipython2",
   "version": "2.7.13"
  }
 },
 "nbformat": 4,
 "nbformat_minor": 2
}
